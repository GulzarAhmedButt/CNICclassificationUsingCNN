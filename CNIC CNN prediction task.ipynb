{
 "cells": [
  {
   "cell_type": "markdown",
   "metadata": {},
   "source": [
    "### Importing Libraries"
   ]
  },
  {
   "cell_type": "code",
   "execution_count": 9,
   "metadata": {},
   "outputs": [],
   "source": [
    "import tensorflow as tf\n",
    "from keras.preprocessing.image import ImageDataGenerator\n",
    "import numpy as np\n",
    "from keras.preprocessing import image"
   ]
  },
  {
   "cell_type": "code",
   "execution_count": 3,
   "metadata": {},
   "outputs": [
    {
     "data": {
      "text/plain": [
       "'2.3.1'"
      ]
     },
     "execution_count": 3,
     "metadata": {},
     "output_type": "execute_result"
    }
   ],
   "source": [
    "tf.__version__"
   ]
  },
  {
   "cell_type": "markdown",
   "metadata": {},
   "source": [
    "### Image Augmentation"
   ]
  },
  {
   "cell_type": "code",
   "execution_count": 4,
   "metadata": {},
   "outputs": [
    {
     "name": "stdout",
     "output_type": "stream",
     "text": [
      "Found 73 images belonging to 2 classes.\n"
     ]
    }
   ],
   "source": [
    "train_datagen = ImageDataGenerator(rescale = 1./255,\n",
    "                                   shear_range = 0.2,\n",
    "                                   zoom_range = 0.2,\n",
    "                                   horizontal_flip = True)\n",
    "training_set = train_datagen.flow_from_directory('dataset/training_set',\n",
    "                                                 target_size = (64, 64),\n",
    "                                                 batch_size = 32,\n",
    "                                                 class_mode = 'binary')"
   ]
  },
  {
   "cell_type": "markdown",
   "metadata": {},
   "source": [
    "### Constructing Convolutional Neural Network "
   ]
  },
  {
   "cell_type": "code",
   "execution_count": 5,
   "metadata": {},
   "outputs": [],
   "source": [
    "cnn = tf.keras.models.Sequential()\n",
    "cnn.add(tf.keras.layers.Conv2D(filters=32, kernel_size=3, activation='relu', input_shape=[64, 64, 3]))\n",
    "cnn.add(tf.keras.layers.MaxPool2D(pool_size=2, strides=2))\n",
    "cnn.add(tf.keras.layers.Conv2D(filters=32, kernel_size=3, activation='relu'))\n",
    "cnn.add(tf.keras.layers.MaxPool2D(pool_size=2, strides=2))\n",
    "cnn.add(tf.keras.layers.Flatten())\n",
    "cnn.add(tf.keras.layers.Dense(units=128, activation='relu'))\n",
    "cnn.add(tf.keras.layers.Dense(units=1, activation='sigmoid'))"
   ]
  },
  {
   "cell_type": "code",
   "execution_count": 6,
   "metadata": {},
   "outputs": [],
   "source": [
    "cnn.compile(optimizer = 'adam', loss = 'binary_crossentropy', metrics = ['accuracy'])"
   ]
  },
  {
   "cell_type": "markdown",
   "metadata": {},
   "source": [
    "### Fitting the Model to Training Set"
   ]
  },
  {
   "cell_type": "code",
   "execution_count": 8,
   "metadata": {},
   "outputs": [
    {
     "name": "stdout",
     "output_type": "stream",
     "text": [
      "Epoch 1/25\n",
      "3/3 [==============================] - 23s 8s/step - loss: 0.6771 - accuracy: 0.7260\n",
      "Epoch 2/25\n",
      "3/3 [==============================] - 14s 5s/step - loss: 0.5999 - accuracy: 0.7397\n",
      "Epoch 3/25\n",
      "3/3 [==============================] - 21s 7s/step - loss: 0.5859 - accuracy: 0.7260\n",
      "Epoch 4/25\n",
      "3/3 [==============================] - 11s 4s/step - loss: 0.5135 - accuracy: 0.7260\n",
      "Epoch 5/25\n",
      "3/3 [==============================] - 5s 2s/step - loss: 0.5129 - accuracy: 0.7260\n",
      "Epoch 6/25\n",
      "3/3 [==============================] - 5s 2s/step - loss: 0.4925 - accuracy: 0.7260\n",
      "Epoch 7/25\n",
      "3/3 [==============================] - 5s 2s/step - loss: 0.4495 - accuracy: 0.7397\n",
      "Epoch 8/25\n",
      "3/3 [==============================] - 5s 2s/step - loss: 0.4320 - accuracy: 0.7808\n",
      "Epoch 9/25\n",
      "3/3 [==============================] - 8s 3s/step - loss: 0.4236 - accuracy: 0.7808\n",
      "Epoch 10/25\n",
      "3/3 [==============================] - 5s 2s/step - loss: 0.4045 - accuracy: 0.7945\n",
      "Epoch 11/25\n",
      "3/3 [==============================] - 6s 2s/step - loss: 0.4732 - accuracy: 0.7397\n",
      "Epoch 12/25\n",
      "3/3 [==============================] - 5s 2s/step - loss: 0.4301 - accuracy: 0.7808\n",
      "Epoch 13/25\n",
      "3/3 [==============================] - 8s 3s/step - loss: 0.3684 - accuracy: 0.8082\n",
      "Epoch 14/25\n",
      "3/3 [==============================] - 5s 2s/step - loss: 0.3750 - accuracy: 0.7945\n",
      "Epoch 15/25\n",
      "3/3 [==============================] - 5s 2s/step - loss: 0.3606 - accuracy: 0.8356\n",
      "Epoch 16/25\n",
      "3/3 [==============================] - 5s 2s/step - loss: 0.3343 - accuracy: 0.8356\n",
      "Epoch 17/25\n",
      "3/3 [==============================] - 5s 2s/step - loss: 0.3145 - accuracy: 0.8493\n",
      "Epoch 18/25\n",
      "3/3 [==============================] - 5s 2s/step - loss: 0.3086 - accuracy: 0.8630\n",
      "Epoch 19/25\n",
      "3/3 [==============================] - 5s 2s/step - loss: 0.2900 - accuracy: 0.8356\n",
      "Epoch 20/25\n",
      "3/3 [==============================] - 5s 2s/step - loss: 0.2561 - accuracy: 0.8904\n",
      "Epoch 21/25\n",
      "3/3 [==============================] - 8s 3s/step - loss: 0.2487 - accuracy: 0.8767\n",
      "Epoch 22/25\n",
      "3/3 [==============================] - 5s 2s/step - loss: 0.2359 - accuracy: 0.9041\n",
      "Epoch 23/25\n",
      "3/3 [==============================] - 8s 3s/step - loss: 0.2301 - accuracy: 0.8904\n",
      "Epoch 24/25\n",
      "3/3 [==============================] - 5s 2s/step - loss: 0.2276 - accuracy: 0.9452\n",
      "Epoch 25/25\n",
      "3/3 [==============================] - 8s 3s/step - loss: 0.2677 - accuracy: 0.8904\n"
     ]
    },
    {
     "data": {
      "text/plain": [
       "<tensorflow.python.keras.callbacks.History at 0x24d160abb20>"
      ]
     },
     "execution_count": 8,
     "metadata": {},
     "output_type": "execute_result"
    }
   ],
   "source": [
    "cnn.fit(x = training_set, epochs = 25)"
   ]
  },
  {
   "cell_type": "code",
   "execution_count": 23,
   "metadata": {},
   "outputs": [
    {
     "name": "stdout",
     "output_type": "stream",
     "text": [
      "Epoch 1/25\n",
      "3/3 [==============================] - 5s 2s/step - loss: 0.1658 - accuracy: 0.9178\n",
      "Epoch 2/25\n",
      "3/3 [==============================] - 6s 2s/step - loss: 0.2544 - accuracy: 0.8767\n",
      "Epoch 3/25\n",
      "3/3 [==============================] - 9s 3s/step - loss: 0.4754 - accuracy: 0.7945\n",
      "Epoch 4/25\n",
      "3/3 [==============================] - 6s 2s/step - loss: 0.2902 - accuracy: 0.8767\n",
      "Epoch 5/25\n",
      "3/3 [==============================] - 6s 2s/step - loss: 0.2537 - accuracy: 0.8767\n",
      "Epoch 6/25\n",
      "3/3 [==============================] - 6s 2s/step - loss: 0.2252 - accuracy: 0.8904\n",
      "Epoch 7/25\n",
      "3/3 [==============================] - 5s 2s/step - loss: 0.2257 - accuracy: 0.8630\n",
      "Epoch 8/25\n",
      "3/3 [==============================] - 5s 2s/step - loss: 0.2062 - accuracy: 0.9315\n",
      "Epoch 9/25\n",
      "3/3 [==============================] - 9s 3s/step - loss: 0.1604 - accuracy: 0.9726\n",
      "Epoch 10/25\n",
      "3/3 [==============================] - 6s 2s/step - loss: 0.1946 - accuracy: 0.9178\n",
      "Epoch 11/25\n",
      "3/3 [==============================] - 9s 3s/step - loss: 0.2349 - accuracy: 0.8904\n",
      "Epoch 12/25\n",
      "3/3 [==============================] - 6s 2s/step - loss: 0.1665 - accuracy: 0.9178\n",
      "Epoch 13/25\n",
      "3/3 [==============================] - 9s 3s/step - loss: 0.2496 - accuracy: 0.8904\n",
      "Epoch 14/25\n",
      "3/3 [==============================] - 6s 2s/step - loss: 0.1787 - accuracy: 0.9041\n",
      "Epoch 15/25\n",
      "3/3 [==============================] - 9s 3s/step - loss: 0.1333 - accuracy: 0.9863\n",
      "Epoch 16/25\n",
      "3/3 [==============================] - 6s 2s/step - loss: 0.1308 - accuracy: 0.9863\n",
      "Epoch 17/25\n",
      "3/3 [==============================] - 6s 2s/step - loss: 0.1112 - accuracy: 0.9589\n",
      "Epoch 18/25\n",
      "3/3 [==============================] - 5s 2s/step - loss: 0.1196 - accuracy: 0.9726\n",
      "Epoch 19/25\n",
      "3/3 [==============================] - 9s 3s/step - loss: 0.0741 - accuracy: 1.0000\n",
      "Epoch 20/25\n",
      "3/3 [==============================] - 6s 2s/step - loss: 0.0875 - accuracy: 1.0000\n",
      "Epoch 21/25\n",
      "3/3 [==============================] - 9s 3s/step - loss: 0.0947 - accuracy: 0.9863\n",
      "Epoch 22/25\n",
      "3/3 [==============================] - 6s 2s/step - loss: 0.0602 - accuracy: 1.0000\n",
      "Epoch 23/25\n",
      "3/3 [==============================] - 9s 3s/step - loss: 0.0864 - accuracy: 0.9726\n",
      "Epoch 24/25\n",
      "3/3 [==============================] - 6s 2s/step - loss: 0.1252 - accuracy: 0.9315\n",
      "Epoch 25/25\n",
      "3/3 [==============================] - 9s 3s/step - loss: 0.0689 - accuracy: 0.9863\n"
     ]
    },
    {
     "data": {
      "text/plain": [
       "<tensorflow.python.keras.callbacks.History at 0x24d162b8190>"
      ]
     },
     "execution_count": 23,
     "metadata": {},
     "output_type": "execute_result"
    }
   ],
   "source": [
    "cnn.fit_generator(training_set,epochs=25)"
   ]
  },
  {
   "cell_type": "markdown",
   "metadata": {},
   "source": [
    "### Making Predictions"
   ]
  },
  {
   "cell_type": "code",
   "execution_count": 31,
   "metadata": {},
   "outputs": [],
   "source": [
    "test_image = image.load_img('dataset/training_set/CNIC english.jpg', target_size = (64, 64))\n",
    "test_image = image.img_to_array(test_image)\n",
    "test_image = np.expand_dims(test_image, axis=0)\n",
    "result = cnn.predict(test_image)\n",
    "if result[0][0] == 1:\n",
    "  prediction = 'urdu cnic'\n",
    "else:\n",
    "  prediction = 'english cnic'"
   ]
  },
  {
   "cell_type": "code",
   "execution_count": 32,
   "metadata": {},
   "outputs": [
    {
     "name": "stdout",
     "output_type": "stream",
     "text": [
      "english cnic\n"
     ]
    }
   ],
   "source": [
    "print(prediction)"
   ]
  },
  {
   "cell_type": "code",
   "execution_count": null,
   "metadata": {},
   "outputs": [],
   "source": []
  }
 ],
 "metadata": {
  "kernelspec": {
   "display_name": "Python 3",
   "language": "python",
   "name": "python3"
  },
  "language_info": {
   "codemirror_mode": {
    "name": "ipython",
    "version": 3
   },
   "file_extension": ".py",
   "mimetype": "text/x-python",
   "name": "python",
   "nbconvert_exporter": "python",
   "pygments_lexer": "ipython3",
   "version": "3.8.3"
  }
 },
 "nbformat": 4,
 "nbformat_minor": 4
}
